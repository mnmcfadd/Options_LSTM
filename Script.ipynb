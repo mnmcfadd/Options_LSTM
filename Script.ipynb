{
 "cells": [
  {
   "cell_type": "markdown",
   "metadata": {},
   "source": [
    "**Notes**\n",
    "\n",
    "Data: post-no-preference options price data (open-source)... unless I can get my hands on the wharton research data services data... which requires an institution to approve me.\n",
    "\n",
    "currently leaning on this study: https://cs230.stanford.edu/projects_fall_2019/reports/26260984.pdf\n",
    "and the associated repo: https://github.com/ycm/cs230-proj/tree/master \n"
   ]
  },
  {
   "cell_type": "code",
   "execution_count": null,
   "metadata": {},
   "outputs": [],
   "source": []
  }
 ],
 "metadata": {
  "language_info": {
   "name": "python"
  }
 },
 "nbformat": 4,
 "nbformat_minor": 2
}
