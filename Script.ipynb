{
 "cells": [
  {
   "cell_type": "markdown",
   "metadata": {},
   "source": [
    "Data: \n",
    "Option prices and implied volatility from post-no-preference option chain dataset. data spans from 2019-current. collected more recently on mon-wed-fri. Many but not all options are posted there for each security.\n",
    "\n",
    "AAPL price data from Kaggle(?)\n",
    "\n",
    "Treasury Bond rates from home.treasury.gov. Daily treasury par yield rates"
   ]
  },
  {
   "cell_type": "code",
   "execution_count": 46,
   "metadata": {},
   "outputs": [],
   "source": [
    "import pandas as pd\n",
    "import numpy as np\n",
    "#10m rows takes about 30 seconds... Expect long processing times for full data. do in batches.\n",
    "#f10m = pd.read_csv('pnp_options.csv', nrows=10000000)\n",
    "#print(sorted(set(f10m['act_symbol'])))\n",
    "#print(len(set(f10m['act_symbol'])))\n",
    "\n",
    "f1m = pd.read_csv('pnp_options.csv', usecols=['date', 'act_symbol', 'expiration', 'strike', 'call_put', 'bid', 'ask',\n",
    "       'vol'] ,nrows = 1000000)\n",
    "\n",
    "prices = pd.read_csv('HistoricalQuotes.csv')\n",
    "\n",
    "rates = pd.read_csv('treasury_2019.csv', usecols=['Date', '1 Mo', '2 Mo', '3 Mo', '6 Mo', '1 Yr'])\n"
   ]
  },
  {
   "cell_type": "markdown",
   "metadata": {},
   "source": [
    "### NOTE...\n",
    "\n",
    "The following data engineering **assumes**:\n",
    "\n",
    "1. we are only interested in AAPL options. if we want to expand, we can simply modify the first line to include more act_symbol values\n",
    "\n",
    "2. our prices dataframe includes prices covering the entire range of dates for option prices, plus an extra n_prices before the earliest option price, such that we can utilize the n_prices preceding the option pricing in our LSTM model down the line \n",
    "\n",
    "3. our rates dataframe also contains treasury rates with dates covering all issuance dates of options.\n",
    "    \n",
    "4. all of our option time-to-expiries are closest to 1-3 months, not 6+ months. in the 1m row data the longest time-to-expiry is 62 days. if we see in the full data a time-to-expiry longer than 135 days, we need to add an option to use the 6 month treasury rate in our determine_r function.\n",
    "\n",
    "\n",
    "**Also**, you will probably want to split this cell into multiple smaller ones when we're working with the full data. some of the actions might be computationally expensive."
   ]
  },
  {
   "cell_type": "code",
   "execution_count": 117,
   "metadata": {},
   "outputs": [
    {
     "name": "stderr",
     "output_type": "stream",
     "text": [
      "/var/folders/49/x210g1j14bs717pp0q4xf3zr0000gq/T/ipykernel_3596/2621196360.py:6: SettingWithCopyWarning: \n",
      "A value is trying to be set on a copy of a slice from a DataFrame.\n",
      "Try using .loc[row_indexer,col_indexer] = value instead\n",
      "\n",
      "See the caveats in the documentation: https://pandas.pydata.org/pandas-docs/stable/user_guide/indexing.html#returning-a-view-versus-a-copy\n",
      "  df['days_expiry'] = (pd.to_datetime(df['expiration']) - pd.to_datetime(df['date'])).dt.days\n"
     ]
    },
    {
     "name": "stdout",
     "output_type": "stream",
     "text": [
      "            date act_symbol  strike call_put   bid    ask     vol  \\\n",
      "142     20190209       AAPL   145.0     Call  25.3  26.05  0.4236   \n",
      "142     20190209       AAPL   145.0     Call  25.3  26.05  0.4236   \n",
      "142     20190209       AAPL   145.0     Call  25.3  26.05  0.4236   \n",
      "142     20190209       AAPL   145.0     Call  25.3  26.05  0.4236   \n",
      "142     20190209       AAPL   145.0     Call  25.3  26.05  0.4236   \n",
      "...          ...        ...     ...      ...   ...    ...     ...   \n",
      "970840  20190907       AAPL   245.0      Put  29.9  33.80  0.2110   \n",
      "970840  20190907       AAPL   245.0      Put  29.9  33.80  0.2110   \n",
      "970840  20190907       AAPL   245.0      Put  29.9  33.80  0.2110   \n",
      "970840  20190907       AAPL   245.0      Put  29.9  33.80  0.2110   \n",
      "970840  20190907       AAPL   245.0      Put  29.9  33.80  0.2110   \n",
      "\n",
      "        days_expiry     r  \n",
      "142              13  2.42  \n",
      "142              13  2.42  \n",
      "142              13  2.42  \n",
      "142              13  2.42  \n",
      "142              13  2.42  \n",
      "...             ...   ...  \n",
      "970840           48  2.43  \n",
      "970840           48  2.43  \n",
      "970840           48  2.43  \n",
      "970840           48  2.43  \n",
      "970840           48  2.43  \n",
      "\n",
      "[132200 rows x 9 columns]\n"
     ]
    }
   ],
   "source": [
    "df = f1m[f1m['act_symbol'] == 'AAPL']\n",
    "aapl_prices = prices.copy()\n",
    "rate = rates.copy()\n",
    "\n",
    "#remove expiration date, replace with int # of days until expiration\n",
    "df['days_expiry'] = (pd.to_datetime(df['expiration']) - pd.to_datetime(df['date'])).dt.days\n",
    "df = df.drop(['expiration'], axis=1)\n",
    "\n",
    "#format dates on df, aapl_prices, rates to match each other\n",
    "\n",
    "df['date'] = pd.to_numeric(df['date'].str.replace('-','')) #shift date from sat to fri, to match treasury rate dates\n",
    "aapl_prices['Date'] = pd.to_datetime(aapl_prices['Date'], format='%m/%d/%Y').dt.strftime('%Y-%m-%d')\n",
    "aapl_prices['Date'] = pd.to_numeric(aapl_prices['Date'].str.replace('-',''))\n",
    "rate['Date'] = pd.to_datetime(rate['Date'], format='%m/%d/%Y').dt.strftime('%Y-%m-%d')\n",
    "rate['Date'] = pd.to_numeric(rate['Date'].str.replace('-',''))\n",
    "\n",
    "#merge rate with df on date, using forward/backwards fill approach, as some dates of options and treasury prices do not line up...\n",
    "#reindex rate using date vals from\n",
    "rate_reindexed = rate.set_index('Date').reindex(df['date'])\n",
    "rate_reindexed = rate_reindexed.ffill().bfill()\n",
    "df = pd.merge(df, rate_reindexed, left_on='date', right_index=True, how='left')\n",
    "\n",
    "#choose risk free rate 'r', based on which treasury rate matures closest to the expiration date of the option.\n",
    "#Then drop other treasury columns leaving just 'r'\n",
    "def determine_r(row):\n",
    "    if row['days_expiry'] < 45:\n",
    "        return row['1 Mo']\n",
    "    elif 45 <= row['days_expiry'] < 75:\n",
    "        return row['2 Mo']\n",
    "    else:\n",
    "        return row['3 Mo']\n",
    "\n",
    "df['r'] = df.apply(determine_r, axis=1)\n",
    "df = df.drop(['1 Mo', '2 Mo', '3 Mo', '6 Mo', '1 Yr'], axis=1)\n",
    "\n",
    "#Now to the price dataframe...\n",
    "\n",
    "print(df)\n",
    "\n",
    "#print(df.sort_values(by='days_expiry', ascending=True))\n",
    "#convert $ objects in security price df to decimal...\n",
    "#Decimal(re.sub(['^0-9.'], '', aapl_prices[' Close/Last', 'Open', 'High', 'Low']))\n",
    "#print(aapl_prices.head()) \n"
   ]
  },
  {
   "cell_type": "code",
   "execution_count": 115,
   "metadata": {},
   "outputs": [
    {
     "name": "stdout",
     "output_type": "stream",
     "text": [
      "265\n",
      "         Date  Close/Last\n",
      "120  20190906     $213.26\n",
      "121  20190905     $213.28\n",
      "122  20190904     $209.19\n",
      "123  20190903      $205.7\n",
      "124  20190830     $208.74\n",
      "..        ...         ...\n",
      "281  20190116     $154.94\n",
      "282  20190115     $153.07\n",
      "283  20190114        $150\n",
      "284  20190111     $152.29\n",
      "285  20190110      $153.8\n",
      "\n",
      "[166 rows x 2 columns]\n"
     ]
    },
    {
     "name": "stderr",
     "output_type": "stream",
     "text": [
      "/var/folders/49/x210g1j14bs717pp0q4xf3zr0000gq/T/ipykernel_60170/2658561103.py:4: SettingWithCopyWarning: \n",
      "A value is trying to be set on a copy of a slice from a DataFrame.\n",
      "Try using .loc[row_indexer,col_indexer] = value instead\n",
      "\n",
      "See the caveats in the documentation: https://pandas.pydata.org/pandas-docs/stable/user_guide/indexing.html#returning-a-view-versus-a-copy\n",
      "  fdf['date'] = pd.to_numeric(fdf['date'].str.replace('-',''))\n"
     ]
    }
   ],
   "source": [
    "#number of price datapoints for each option price instance\n",
    "n_prices = 20\n",
    "\n",
    "#formatting dates\n",
    "apdf = aapl_prices.copy()\n",
    "df['date'] = pd.to_numeric(df['date'].str.replace('-',''))\n",
    "apdf['Date'] = pd.to_datetime(apdf['Date'], format='%m/%d/%Y').dt.strftime('%Y-%m-%d')\n",
    "apdf['Date'] = pd.to_numeric(apdf['Date'].str.replace('-',''))\n",
    "\n",
    "#reducing price df to relevant dates (n_prices dates before the earliest option price, up to the latest option price)\n",
    "minDate = apdf.index[apdf['Date'] == min(df['date'])-1].tolist()[0]\n",
    "maxDate = apdf.index[apdf['Date'] == max(df['date'])-1].tolist()[0]\n",
    "red_prices = apdf.loc[maxDate:(minDate+n_prices),].sort_values(by=['Date'])\n",
    "\n",
    "print(minDate)\n",
    "print(apdf.loc[maxDate:(minDate+n_prices),])\n",
    "#print(apdf[apdf['Date'] == fdf['date'][100] - 1])"
   ]
  },
  {
   "cell_type": "code",
   "execution_count": null,
   "metadata": {},
   "outputs": [],
   "source": []
  }
 ],
 "metadata": {
  "kernelspec": {
   "display_name": "Python 3",
   "language": "python",
   "name": "python3"
  },
  "language_info": {
   "codemirror_mode": {
    "name": "ipython",
    "version": 3
   },
   "file_extension": ".py",
   "mimetype": "text/x-python",
   "name": "python",
   "nbconvert_exporter": "python",
   "pygments_lexer": "ipython3",
   "version": "3.9.5"
  }
 },
 "nbformat": 4,
 "nbformat_minor": 2
}
